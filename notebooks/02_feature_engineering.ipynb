{
 "cells": [
  {
   "cell_type": "code",
   "execution_count": 1,
   "id": "2168b70e",
   "metadata": {},
   "outputs": [],
   "source": [
    "import pandas as pd\n",
    "import numpy as np\n",
    "from sklearn.model_selection import train_test_split, cross_val_score\n",
    "from sklearn.ensemble import RandomForestClassifier, RandomForestRegressor\n",
    "from sklearn.metrics import classification_report, confusion_matrix, mean_squared_error, r2_score\n",
    "import matplotlib.pyplot as plt\n",
    "import seaborn as sns"
   ]
  },
  {
   "cell_type": "code",
   "execution_count": 2,
   "id": "b45702de",
   "metadata": {},
   "outputs": [],
   "source": [
    "# Load the final dataset\n",
    "df = pd.read_csv('../data/processed/final_dataset.csv')"
   ]
  },
  {
   "cell_type": "code",
   "execution_count": 3,
   "id": "9ffecfd0",
   "metadata": {},
   "outputs": [],
   "source": [
    "# Encode target variable (rating)\n",
    "from sklearn.preprocessing import OrdinalEncoder\n",
    "\n",
    "rating_order = ['C', 'Ca', 'Caa3', 'Caa2', 'Caa1', 'B3', 'B2', 'B1', 'Ba3', 'Ba2', 'Ba1',\n",
    "                'Baa3', 'Baa2', 'Baa1', 'A3', 'A2', 'A1', 'Aa3', 'Aa2', 'Aa1', 'Aaa']\n",
    "encoder = OrdinalEncoder(categories=[rating_order])\n",
    "df['rating_encoded'] = encoder.fit_transform(df[['rating']])"
   ]
  },
  {
   "cell_type": "code",
   "execution_count": 4,
   "id": "3ba3b8b5",
   "metadata": {},
   "outputs": [],
   "source": [
    "# Split into train/test\n",
    "features = df.drop(columns=['country_cleaned', 'rating', 'rating_action_date', 'rating_year', 'rating_encoded'])\n",
    "target_clf = df['rating_encoded']\n",
    "target_reg = df['rating_encoded']  # Same for both\n",
    "\n",
    "X_train, X_test, y_train_clf, y_test_clf = train_test_split(features, target_clf, test_size=0.2, random_state=42)\n"
   ]
  },
  {
   "cell_type": "code",
   "execution_count": null,
   "id": "2104f5d6",
   "metadata": {},
   "outputs": [],
   "source": []
  },
  {
   "cell_type": "code",
   "execution_count": null,
   "id": "8e2c79ac",
   "metadata": {},
   "outputs": [],
   "source": []
  }
 ],
 "metadata": {
  "kernelspec": {
   "display_name": "sovereign_env",
   "language": "python",
   "name": "python3"
  },
  "language_info": {
   "codemirror_mode": {
    "name": "ipython",
    "version": 3
   },
   "file_extension": ".py",
   "mimetype": "text/x-python",
   "name": "python",
   "nbconvert_exporter": "python",
   "pygments_lexer": "ipython3",
   "version": "3.11.13"
  }
 },
 "nbformat": 4,
 "nbformat_minor": 5
}
